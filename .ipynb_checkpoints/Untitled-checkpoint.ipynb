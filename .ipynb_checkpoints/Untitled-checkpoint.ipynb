{
 "cells": [
  {
   "cell_type": "code",
   "execution_count": 24,
   "metadata": {
    "scrolled": true
   },
   "outputs": [
    {
     "data": {
      "image/png": "[encoded data removed]",
      "text/plain": [
       "<Figure size 720x576 with 1 Axes>"
      ]
     },
     "metadata": {
      "needs_background": "light"
     },
     "output_type": "display_data"
    }
   ],
   "source": [
    "import tweepy\n",
    "import matplotlib.pyplot as plt\n",
    "import re\n",
    "import numpy as np\n",
    "import pandas as pd\n",
    "from textblob import TextBlob\n",
    "\n",
    "consumer_key = 'xx'\n",
    "consumer_secret = 'xx'\n",
    "\n",
    "access_token = 'xx'\n",
    "access_token_secret = 'xx'\n",
    "\n",
    "auth = tweepy.OAuthHandler(consumer_key, consumer_secret)\n",
    "auth.set_access_token(access_token, access_token_secret)\n",
    "\n",
    "api = tweepy.API(auth)\n",
    "    \n",
    "public_tweets = api.search('Kenya')\n",
    "\n",
    "for tweet in public_tweets:\n",
    "    print(tweet.text)\n",
    "    analysis = TextBlob(tweet.text)\n",
    "    print(analysis.sentiment)\n",
    "    \n",
    "df = pd.DataFrame([tweets.text for tweets in public_tweets], columns=[\"Tweets\"])\n",
    "df.head(20)    \n",
    "\n",
    "polarity = lambda x: TextBlob(x).sentiment.polarity\n",
    "subjectivity = lambda x: TextBlob(x).sentiment.subjectivity\n",
    "df[\"polarity\"] = df[\"Tweets\"].apply(polarity)\n",
    "df[\"subjectivity\"] = df[\"Tweets\"].apply(subjectivity)\n",
    "\n",
    "plt.rcParams[\"figure.figsize\"] = [10, 8]\n",
    "for index, Tweets in enumerate(df.index):\n",
    "    x = df.polarity.loc[Tweets]\n",
    "    y = df.subjectivity.loc[Tweets]\n",
    "    plt.scatter(x, y, color=\"Red\")\n",
    "\n",
    " \n",
    "plt.title(\"Sentiment Analysis\", fontsize = 20)\n",
    "plt.xlabel(\"← Negative — — — — — — Positive →\", fontsize=15)\n",
    "plt.ylabel(\"← Facts — — — — — — — Opinions →\", fontsize=15)\n",
    "plt.show()"
   ]
  },
  {
   "cell_type": "code",
   "execution_count": 26,
   "metadata": {},
   "outputs": [
    {
     "name": "stdout",
     "output_type": "stream",
     "text": [
      "@DanaWilliams72 I’m older than you and we have similar circumstances, though I was once married and have a grown da… https://t.co/7vhbOEbSeV\n",
      "Sentiment(polarity=0.13888888888888887, subjectivity=0.3277777777777778)\n",
      "@moderat_or @mhozya_pj @Jchris66283712 @ngurumo @TunduALissu Sijui una umri gani.\n",
      "\n",
      "Nilikuwa mkubwa na shughuli zang… https://t.co/Xd8iwZRDXa\n",
      "Sentiment(polarity=0.0, subjectivity=0.0)\n",
      "RT @StandardKenya: A disturbing video of police officers in Colchester, UK, assaulting a Kenyan man has drawn the attention of the Kenya Hi…\n",
      "Sentiment(polarity=-0.5, subjectivity=0.8)\n",
      "RT @merry123459: So it seems that Jesse Brown from CANADALAND is going after the Kenya branch of WE Charity. This isn’t a coincidence &amp; has…\n",
      "Sentiment(polarity=0.0, subjectivity=0.0)\n",
      "RT @OfficialKrakenK: Love seeing people succeed in the things that they love.\n",
      "Sentiment(polarity=0.5, subjectivity=0.6)\n",
      "RT @MAJIN2UU: Bro 😭😭😭😭😭😭 https://t.co/Izj1o4y3qz\n",
      "Sentiment(polarity=0.0, subjectivity=0.0)\n",
      "REAL POLITICS:\n",
      "This is what we should be discussing. This is what builds the country but we messed the mon eg Mt we… https://t.co/NAiA0xv44w\n",
      "Sentiment(polarity=0.2, subjectivity=0.30000000000000004)\n",
      "RT @roslynleon0: me finding the body i just killed: https://t.co/hf63y7AfAS\n",
      "Sentiment(polarity=-0.2, subjectivity=0.0)\n",
      "Yesss, got approved for GIRL by Kenya Hunt. Can't wait to read this 🥰\n",
      "Sentiment(polarity=0.0, subjectivity=0.0)\n",
      "RT @kiruti: You sometimes think Kenya is bad then you hear about other African countries 😬\n",
      "Sentiment(polarity=-0.27499999999999997, subjectivity=0.34722222222222215)\n",
      "RT @Ma3Route: 15:29 This is in Kenya but I don't know where and when. Huu ni msiba wa kujitakia lakini pole kwa aliyetuacha.  https://t.co/…\n",
      "Sentiment(polarity=0.0, subjectivity=0.0)\n",
      "RT @EMagira: @NMS_Kenya do something about jogoo road from likoni roundabout to city stadium and landhies road. It's filthy.... traders dum…\n",
      "Sentiment(polarity=-0.8, subjectivity=1.0)\n",
      "@sylagain @WizardsCash Naik pesawat sampe ke Kenya\n",
      "Jangan lupa bawa pepaya\n",
      "\n",
      "Terimakasih buat giveaway nya \n",
      "Doakan j… https://t.co/9dPERhl5kg\n",
      "Sentiment(polarity=0.0, subjectivity=0.0)\n",
      "RT @EMungau: @Silvia_Wangeci @MillicentOmanga Kenya does not need philanthropy, we need systems that work \n",
      "Kenya does not need philanthropy…\n",
      "Sentiment(polarity=0.0, subjectivity=0.0)\n"
     ]
    }
   ],
   "source": [
    "for tweet in public_tweets:\n",
    "    print(tweet.text)\n",
    "    analysis = TextBlob(tweet.text)\n",
    "    print(analysis.sentiment)"
   ]
  },
  {
   "cell_type": "code",
   "execution_count": 25,
   "metadata": {},
   "outputs": [
    {
     "data": {
      "text/html": [
       "<div>\n",
       "<style scoped>\n",
       "    .dataframe tbody tr th:only-of-type {\n",
       "        vertical-align: middle;\n",
       "    }\n",
       "\n",
       "    .dataframe tbody tr th {\n",
       "        vertical-align: top;\n",
       "    }\n",
       "\n",
       "    .dataframe thead th {\n",
       "        text-align: right;\n",
       "    }\n",
       "</style>\n",
       "<table border=\"1\" class=\"dataframe\">\n",
       "  <thead>\n",
       "    <tr style=\"text-align: right;\">\n",
       "      <th></th>\n",
       "      <th>Tweets</th>\n",
       "    </tr>\n",
       "  </thead>\n",
       "  <tbody>\n",
       "    <tr>\n",
       "      <th>0</th>\n",
       "      <td>@DanaWilliams72 I’m older than you and we have...</td>\n",
       "    </tr>\n",
       "    <tr>\n",
       "      <th>1</th>\n",
       "      <td>@moderat_or @mhozya_pj @Jchris66283712 @ngurum...</td>\n",
       "    </tr>\n",
       "    <tr>\n",
       "      <th>2</th>\n",
       "      <td>RT @StandardKenya: A disturbing video of polic...</td>\n",
       "    </tr>\n",
       "    <tr>\n",
       "      <th>3</th>\n",
       "      <td>RT @merry123459: So it seems that Jesse Brown ...</td>\n",
       "    </tr>\n",
       "    <tr>\n",
       "      <th>4</th>\n",
       "      <td>RT @OfficialKrakenK: Love seeing people succee...</td>\n",
       "    </tr>\n",
       "    <tr>\n",
       "      <th>5</th>\n",
       "      <td>RT @MAJIN2UU: Bro 😭😭😭😭😭😭 https://t.co/Izj1o4y3qz</td>\n",
       "    </tr>\n",
       "    <tr>\n",
       "      <th>6</th>\n",
       "      <td>REAL POLITICS:\\nThis is what we should be disc...</td>\n",
       "    </tr>\n",
       "    <tr>\n",
       "      <th>7</th>\n",
       "      <td>RT @roslynleon0: me finding the body i just ki...</td>\n",
       "    </tr>\n",
       "    <tr>\n",
       "      <th>8</th>\n",
       "      <td>Yesss, got approved for GIRL by Kenya Hunt. Ca...</td>\n",
       "    </tr>\n",
       "    <tr>\n",
       "      <th>9</th>\n",
       "      <td>RT @kiruti: You sometimes think Kenya is bad t...</td>\n",
       "    </tr>\n",
       "    <tr>\n",
       "      <th>10</th>\n",
       "      <td>RT @Ma3Route: 15:29 This is in Kenya but I don...</td>\n",
       "    </tr>\n",
       "    <tr>\n",
       "      <th>11</th>\n",
       "      <td>RT @EMagira: @NMS_Kenya do something about jog...</td>\n",
       "    </tr>\n",
       "    <tr>\n",
       "      <th>12</th>\n",
       "      <td>@sylagain @WizardsCash Naik pesawat sampe ke K...</td>\n",
       "    </tr>\n",
       "    <tr>\n",
       "      <th>13</th>\n",
       "      <td>RT @EMungau: @Silvia_Wangeci @MillicentOmanga ...</td>\n",
       "    </tr>\n",
       "  </tbody>\n",
       "</table>\n",
       "</div>"
      ],
      "text/plain": [
       "                                               Tweets\n",
       "0   @DanaWilliams72 I’m older than you and we have...\n",
       "1   @moderat_or @mhozya_pj @Jchris66283712 @ngurum...\n",
       "2   RT @StandardKenya: A disturbing video of polic...\n",
       "3   RT @merry123459: So it seems that Jesse Brown ...\n",
       "4   RT @OfficialKrakenK: Love seeing people succee...\n",
       "5    RT @MAJIN2UU: Bro 😭😭😭😭😭😭 https://t.co/Izj1o4y3qz\n",
       "6   REAL POLITICS:\\nThis is what we should be disc...\n",
       "7   RT @roslynleon0: me finding the body i just ki...\n",
       "8   Yesss, got approved for GIRL by Kenya Hunt. Ca...\n",
       "9   RT @kiruti: You sometimes think Kenya is bad t...\n",
       "10  RT @Ma3Route: 15:29 This is in Kenya but I don...\n",
       "11  RT @EMagira: @NMS_Kenya do something about jog...\n",
       "12  @sylagain @WizardsCash Naik pesawat sampe ke K...\n",
       "13  RT @EMungau: @Silvia_Wangeci @MillicentOmanga ..."
      ]
     },
     "execution_count": 25,
     "metadata": {},
     "output_type": "execute_result"
    }
   ],
   "source": [
    "df = pd.DataFrame([tweets.text for tweets in public_tweets], columns=[\"Tweets\"])\n",
    "df.head(20) "
   ]
  }
 ],
 "metadata": {
  "kernelspec": {
   "display_name": "Python 3",
   "language": "python",
   "name": "python3"
  },
  "language_info": {
   "codemirror_mode": {
    "name": "ipython",
    "version": 3
   },
   "file_extension": ".py",
   "mimetype": "text/x-python",
   "name": "python",
   "nbconvert_exporter": "python",
   "pygments_lexer": "ipython3",
   "version": "3.7.3"
  }
 },
 "nbformat": 4,
 "nbformat_minor": 2
}
